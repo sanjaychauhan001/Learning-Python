{
 "cells": [
  {
   "cell_type": "code",
   "execution_count": 1,
   "metadata": {},
   "outputs": [],
   "source": [
    "import re"
   ]
  },
  {
   "cell_type": "code",
   "execution_count": 2,
   "metadata": {},
   "outputs": [
    {
     "name": "stdout",
     "output_type": "stream",
     "text": [
      "<re.Match object; span=(0, 1), match='s'>\n",
      "<re.Match object; span=(0, 2), match='sa'>\n",
      "None\n"
     ]
    }
   ],
   "source": [
    "a = 'sanjay.chauhan@gmail.com'\n",
    "# ^ (Caret.) Matches the start of the string\n",
    "print(re.search(r'^s', a))\n",
    "print(re.search(r'^sa', a))\n",
    "print(re.search(r'^a', a))"
   ]
  },
  {
   "cell_type": "code",
   "execution_count": 3,
   "metadata": {},
   "outputs": [
    {
     "name": "stdout",
     "output_type": "stream",
     "text": [
      "<re.Match object; span=(21, 24), match='com'>\n",
      "None\n",
      "<re.Match object; span=(23, 24), match='m'>\n"
     ]
    }
   ],
   "source": [
    "# $ Matches the end of the string or just before the newline at the end of the string\n",
    "print(re.search(r\"com$\", a))\n",
    "print(re.search(r\"c$\", a))\n",
    "print(re.search(r\"m$\", a))"
   ]
  },
  {
   "cell_type": "code",
   "execution_count": 4,
   "metadata": {},
   "outputs": [
    {
     "name": "stdout",
     "output_type": "stream",
     "text": [
      "['cat', 'pat', 'hat', 'mat']\n"
     ]
    }
   ],
   "source": [
    "# . (Dot.) In the default mode, this matches any character except a newline\n",
    "b = \"cat pat chat mat\"\n",
    "print(re.findall(r\".at\", b))"
   ]
  },
  {
   "cell_type": "code",
   "execution_count": 5,
   "metadata": {},
   "outputs": [
    {
     "name": "stdout",
     "output_type": "stream",
     "text": [
      "['he', 'ho']\n",
      "['he']\n"
     ]
    }
   ],
   "source": [
    "# |  creates a regular expression that will match either A or B\n",
    "c = \"hello sanjay how are you\"\n",
    "print(re.findall(r\"he|ho\", c))\n",
    "print(re.findall(r\"he|hq\", c))"
   ]
  },
  {
   "cell_type": "code",
   "execution_count": 6,
   "metadata": {},
   "outputs": [
    {
     "name": "stdout",
     "output_type": "stream",
     "text": [
      "['t', 't', 'to', 'to']\n",
      "['to', 'o', 'to', 'o', 'o']\n",
      "['cr', 'c']\n"
     ]
    }
   ],
   "source": [
    "# ? Causes the resulting RE to match 0 or 1 repetitions of the preceding RE. ab? will match either ‘a’ or ‘ab’.\n",
    "d = \"lets play cricket today or tommorow\"\n",
    "print(re.findall(r\"to?\", d))\n",
    "print(re.findall(r\"t?o\", d))\n",
    "print(re.findall(r\"cr?\", d))"
   ]
  },
  {
   "cell_type": "code",
   "execution_count": 7,
   "metadata": {},
   "outputs": [
    {
     "name": "stdout",
     "output_type": "stream",
     "text": [
      "['to', 'o', 'to', 'o', 'o']\n"
     ]
    }
   ],
   "source": [
    "# * Causes the resulting RE to match 0 or more repetitions of the preceding RE,\n",
    "# as many repetitions as are possible. ab* will match ‘a’, ‘ab’, or ‘a’ followed by any number of ‘b’s.\n",
    "print(re.findall(r\"t*o\", d))"
   ]
  },
  {
   "cell_type": "code",
   "execution_count": 8,
   "metadata": {},
   "outputs": [
    {
     "name": "stdout",
     "output_type": "stream",
     "text": [
      "['aab', 'ab']\n",
      "['bba']\n"
     ]
    }
   ],
   "source": [
    "# + Causes the resulting RE to match 1 or more repetitions of the preceding RE\n",
    "e = \"aab bba ab cca\"\n",
    "print(re.findall(r\"a+b\", e))\n",
    "print(re.findall(r\"b+a\", e))"
   ]
  },
  {
   "cell_type": "code",
   "execution_count": 9,
   "metadata": {},
   "outputs": [
    {
     "name": "stdout",
     "output_type": "stream",
     "text": [
      "['aa']\n",
      "['aa', 'a', 'a', 'a']\n",
      "['b', 'bb', 'b']\n"
     ]
    }
   ],
   "source": [
    "print(re.findall(r\"a{2,3}\",e))\n",
    "print(re.findall(r\"a{1,3}\",e))\n",
    "print(re.findall(r\"b{1,3}\",e))"
   ]
  },
  {
   "cell_type": "code",
   "execution_count": 10,
   "metadata": {},
   "outputs": [
    {
     "name": "stdout",
     "output_type": "stream",
     "text": [
      "['b', 'b', 'a']\n",
      "['c', 'c']\n"
     ]
    }
   ],
   "source": [
    "f = \"aabc aabbcc ccaac ssbb\"\n",
    "print(re.findall(r\"(a|b)c\",f))\n",
    "print(re.findall(r\"(c|s)c\",f))"
   ]
  },
  {
   "cell_type": "markdown",
   "metadata": {},
   "source": [
    "### RegEX"
   ]
  },
  {
   "cell_type": "code",
   "execution_count": 11,
   "metadata": {},
   "outputs": [
    {
     "name": "stdout",
     "output_type": "stream",
     "text": [
      "<re.Match object; span=(0, 3), match='san'>\n",
      "None\n",
      "None\n"
     ]
    }
   ],
   "source": [
    "g = \"sanjay chauhan\"\n",
    "print(re.search(r\"\\Asan\",g))\n",
    "print(re.search(r\"\\Aan\",g))\n",
    "print(re.search(r\"\\Ach\",g))"
   ]
  },
  {
   "cell_type": "code",
   "execution_count": 12,
   "metadata": {},
   "outputs": [
    {
     "name": "stdout",
     "output_type": "stream",
     "text": [
      "<re.Match object; span=(0, 3), match='san'>\n",
      "None\n",
      "<re.Match object; span=(7, 9), match='ch'>\n"
     ]
    }
   ],
   "source": [
    "print(re.search(r\"\\bsan\",g))\n",
    "print(re.search(r\"\\ban\",g))\n",
    "print(re.search(r\"\\bch\",g))"
   ]
  },
  {
   "cell_type": "code",
   "execution_count": 15,
   "metadata": {},
   "outputs": [
    {
     "name": "stdout",
     "output_type": "stream",
     "text": [
      "None\n",
      "None\n",
      "<re.Match object; span=(2, 3), match='n'>\n"
     ]
    }
   ],
   "source": [
    "print(re.search(r\"\\Bsan\",g))\n",
    "print(re.search(r\"\\Bcha\",g))\n",
    "print(re.search(r\"\\Bn\",g))"
   ]
  },
  {
   "cell_type": "code",
   "execution_count": 28,
   "metadata": {},
   "outputs": [
    {
     "name": "stdout",
     "output_type": "stream",
     "text": [
      "['9029628630', '(555)-483-4121']\n"
     ]
    }
   ],
   "source": [
    "text = \"i am sanjay my no. is 9029628630 and my american number is (555)-483-4121\"\n",
    "print(re.findall(r\"\\(\\d{3}\\)-\\d{3}-\\d{4}|\\d{10}\",text))"
   ]
  },
  {
   "cell_type": "code",
   "execution_count": null,
   "metadata": {},
   "outputs": [],
   "source": []
  },
  {
   "cell_type": "code",
   "execution_count": null,
   "metadata": {},
   "outputs": [],
   "source": []
  },
  {
   "cell_type": "code",
   "execution_count": null,
   "metadata": {},
   "outputs": [],
   "source": []
  },
  {
   "cell_type": "code",
   "execution_count": null,
   "metadata": {},
   "outputs": [],
   "source": []
  }
 ],
 "metadata": {
  "kernelspec": {
   "display_name": "Python 3",
   "language": "python",
   "name": "python3"
  },
  "language_info": {
   "codemirror_mode": {
    "name": "ipython",
    "version": 3
   },
   "file_extension": ".py",
   "mimetype": "text/x-python",
   "name": "python",
   "nbconvert_exporter": "python",
   "pygments_lexer": "ipython3",
   "version": "3.12.1"
  }
 },
 "nbformat": 4,
 "nbformat_minor": 2
}
