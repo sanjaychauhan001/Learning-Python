{
 "cells": [
  {
   "cell_type": "code",
   "execution_count": 1,
   "metadata": {},
   "outputs": [
    {
     "data": {
      "text/plain": [
       "4"
      ]
     },
     "execution_count": 1,
     "metadata": {},
     "output_type": "execute_result"
    }
   ],
   "source": [
    "#1.\tGiven an array & target number, find the number of occurrences of the target number in the array\n",
    "\n",
    "a = [25,5,6,3,6,3,5,25,56,5,5]\n",
    "target = 5\n",
    "acc = 0\n",
    "for i in a:\n",
    "    if i == target:\n",
    "        acc = acc + 1\n",
    "acc\n"
   ]
  },
  {
   "cell_type": "code",
   "execution_count": 3,
   "metadata": {},
   "outputs": [
    {
     "data": {
      "text/plain": [
       "[30, 10, 11, 8, 11, 8, 10, 30, 61, 10, 10]"
      ]
     },
     "execution_count": 3,
     "metadata": {},
     "output_type": "execute_result"
    }
   ],
   "source": [
    "#2.\tGiven an array and an increment number, \n",
    "# generate a new array which contain all values of original array increased by increment value\n",
    "\n",
    "a = [25,5,6,3,6,3,5,25,56,5,5]\n",
    "increment = 5\n",
    "new = []\n",
    "for i in a:\n",
    "    new.append(i+increment)\n",
    "new"
   ]
  },
  {
   "cell_type": "code",
   "execution_count": 4,
   "metadata": {},
   "outputs": [
    {
     "data": {
      "text/plain": [
       "[625, 25, 36, 9, 36, 9, 25, 625, 3136, 25, 25]"
      ]
     },
     "execution_count": 4,
     "metadata": {},
     "output_type": "execute_result"
    }
   ],
   "source": [
    "#3.\tGiven an array, generate a new array containing squares of all numbers\n",
    "a = [25,5,6,3,6,3,5,25,56,5,5]\n",
    "square = []\n",
    "for i in a:\n",
    "    square.append(i**2)\n",
    "square"
   ]
  },
  {
   "cell_type": "code",
   "execution_count": 5,
   "metadata": {},
   "outputs": [
    {
     "data": {
      "text/plain": [
       "[25, 5, 3, 3, 5, 25, 5, 5]"
      ]
     },
     "execution_count": 5,
     "metadata": {},
     "output_type": "execute_result"
    }
   ],
   "source": [
    "# 4.Given an array, filter out all odd numbers\n",
    "a = [25,5,6,3,6,3,5,25,56,5,5]\n",
    "odd = []\n",
    "for i in a:\n",
    "    if i%2 !=0:\n",
    "        odd.append(i)\n",
    "odd"
   ]
  },
  {
   "cell_type": "code",
   "execution_count": 22,
   "metadata": {},
   "outputs": [
    {
     "name": "stdout",
     "output_type": "stream",
     "text": [
      "[[1, 2, 4], [3, 4, 4]]\n",
      "[[5, 6, 4], [7, 8, 4]]\n",
      "6\n",
      "8\n",
      "8\n",
      "10\n",
      "12\n",
      "8\n"
     ]
    }
   ],
   "source": [
    "# 6.\tGiven 2 Matrices, find their sum.\n",
    "a = [[1,2,4],[3,4,4]]\n",
    "b = [[5,6,4],[7,8,4]]\n",
    "print(a)\n",
    "print(b)\n",
    "for i in range(len(a)):\n",
    "    for j in range(len(a[0])):\n",
    "        print(a[i][j]+b[i][j])"
   ]
  },
  {
   "cell_type": "code",
   "execution_count": 65,
   "metadata": {},
   "outputs": [
    {
     "name": "stdout",
     "output_type": "stream",
     "text": [
      "[[1, 2, 3, 4], [4, 5, 6, 4]]\n",
      "5 7 9 8 "
     ]
    }
   ],
   "source": [
    "#p7.\tGiven a matrix, find the sum of element of each row\n",
    "a = [[1,2,3,4],[4,5,6,4]]\n",
    "print(a)\n",
    "for i in range(len(a)-1):\n",
    "    for j in range(len(a[0])):\n",
    "        print(a[i][j]+a[i+1][j],end=\" \")\n",
    "        \n",
    "    \n"
   ]
  },
  {
   "cell_type": "code",
   "execution_count": 82,
   "metadata": {},
   "outputs": [
    {
     "name": "stdout",
     "output_type": "stream",
     "text": [
      "[[0, 2, 1], [4, 0, 3], [1, 2, 0]]\n",
      "identity matrix\n"
     ]
    }
   ],
   "source": [
    "#8.\tGiven a square matrix check if it is an identity matrix\n",
    "a = [[0,2,1],[4,0,3],[1,2,0]]\n",
    "print(a)\n",
    "identity = \"yes\"\n",
    "for i in range(len(a)):\n",
    "    for j in range(len(a)):\n",
    "        if i == j:\n",
    "            if a[i][j] != 0:\n",
    "                identity = \"no\"\n",
    "if identity == \"yes\":\n",
    "    print(\"identity matrix\")\n",
    "else:\n",
    "    print(\"no\")"
   ]
  },
  {
   "cell_type": "code",
   "execution_count": 85,
   "metadata": {},
   "outputs": [
    {
     "name": "stdout",
     "output_type": "stream",
     "text": [
      "[[1, 2, 1], [4, 2, 3], [1, 3, 5]]\n"
     ]
    },
    {
     "data": {
      "text/plain": [
       "8"
      ]
     },
     "execution_count": 85,
     "metadata": {},
     "output_type": "execute_result"
    }
   ],
   "source": [
    "# 9.\tGiven a square matrix, compute the sum of it's diagonal element\n",
    "a = [[1,2,1],[4,2,3],[1,3,5]]\n",
    "print(a)\n",
    "sum = 0\n",
    "for i in range(len(a)):\n",
    "    for j in range(len(a)):\n",
    "        if i == j:\n",
    "            sum = sum + a[i][j]\n",
    "sum"
   ]
  },
  {
   "cell_type": "code",
   "execution_count": 105,
   "metadata": {},
   "outputs": [
    {
     "name": "stdout",
     "output_type": "stream",
     "text": [
      "[[5, 2], [2, 7]]\n",
      "35\n",
      "4\n",
      "31\n"
     ]
    }
   ],
   "source": [
    "#10.Find determinant of square matrix [VERY DIFFICULT]\n",
    "a = [[5,2],[2,7]]\n",
    "print(a)\n",
    "\n",
    "l1 = []\n",
    "l2 = []\n",
    "for i in range(len(a)):\n",
    "    for j in range(len(a)):\n",
    "        if i == j:\n",
    "            l1.append((a[i][j]))\n",
    "        else:\n",
    "            l2.append((a[i][j]))\n",
    "p = 1\n",
    "for i in l1:\n",
    "    p = p*i\n",
    "print(p)\n",
    "q = 1\n",
    "for i in l2:\n",
    "    q = q*i\n",
    "print(q)\n",
    "print(p-q)"
   ]
  },
  {
   "cell_type": "code",
   "execution_count": null,
   "metadata": {},
   "outputs": [],
   "source": [
    "# 11.\tFind multiplication of two matrices [VERY DIFFICULT]\n"
   ]
  },
  {
   "cell_type": "code",
   "execution_count": null,
   "metadata": {},
   "outputs": [],
   "source": []
  }
 ],
 "metadata": {
  "kernelspec": {
   "display_name": "Python 3",
   "language": "python",
   "name": "python3"
  },
  "language_info": {
   "codemirror_mode": {
    "name": "ipython",
    "version": 3
   },
   "file_extension": ".py",
   "mimetype": "text/x-python",
   "name": "python",
   "nbconvert_exporter": "python",
   "pygments_lexer": "ipython3",
   "version": "3.12.3"
  }
 },
 "nbformat": 4,
 "nbformat_minor": 2
}
