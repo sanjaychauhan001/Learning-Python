{
 "cells": [
  {
   "cell_type": "code",
   "execution_count": 24,
   "metadata": {},
   "outputs": [],
   "source": [
    "# Maximum sum subarray\n",
    "\n",
    "L = [-2,4,7,-1,6,-11,14,3,-1,-6]\n",
    "d = {}\n",
    "\n",
    "for i in range(0,len(L)):\n",
    "    subarray = []\n",
    "    for j in range(i,len(L)):\n",
    "        \n",
    "        subarray.append(L[j])\n",
    "        d[sum(subarray)] = subarray\n",
    "    \n",
    "max = max(d.keys())  "
   ]
  },
  {
   "cell_type": "code",
   "execution_count": 27,
   "metadata": {},
   "outputs": [
    {
     "name": "stdout",
     "output_type": "stream",
     "text": [
      "[4, 7, -1, 6, -11, 14, 3, -1, -6]\n"
     ]
    }
   ],
   "source": [
    "for i in d:\n",
    "    if i == max:\n",
    "        print(d[i])"
   ]
  },
  {
   "cell_type": "code",
   "execution_count": 30,
   "metadata": {},
   "outputs": [
    {
     "name": "stdout",
     "output_type": "stream",
     "text": [
      "5\n"
     ]
    }
   ],
   "source": [
    "# find element with left side smaller and right side greater\n",
    "\n",
    "L = [3,1,2,5,8,7,9]\n",
    "for i in range(1,len(L)-1):\n",
    "    flag = True\n",
    "\n",
    "    for j in range(0,i):\n",
    "        if( L[j] > L[i]):\n",
    "            flag = False\n",
    "\n",
    "    for k in range(i+1, len(L)):\n",
    "        if( L[k] < L[i]):\n",
    "            flag = False\n",
    "\n",
    "    if flag == True:\n",
    "        print(L[i])                \n",
    "    \n"
   ]
  },
  {
   "cell_type": "code",
   "execution_count": 40,
   "metadata": {},
   "outputs": [
    {
     "data": {
      "text/plain": [
       "[2, 4, 5, 1, 3]"
      ]
     },
     "execution_count": 40,
     "metadata": {},
     "output_type": "execute_result"
    }
   ],
   "source": [
    "L = [1,2,3,4,5]\n",
    "\n",
    "for i in range(2):\n",
    "    L.append(L[i])\n",
    "    L.remove(L[i])\n",
    "\n",
    "L    "
   ]
  },
  {
   "cell_type": "code",
   "execution_count": 35,
   "metadata": {},
   "outputs": [
    {
     "data": {
      "text/plain": [
       "[45, 5]"
      ]
     },
     "execution_count": 35,
     "metadata": {},
     "output_type": "execute_result"
    }
   ],
   "source": [
    "a = [2,45,5]\n",
    "a.remove(2)\n",
    "a"
   ]
  },
  {
   "cell_type": "code",
   "execution_count": null,
   "metadata": {},
   "outputs": [],
   "source": []
  },
  {
   "cell_type": "code",
   "execution_count": null,
   "metadata": {},
   "outputs": [],
   "source": []
  }
 ],
 "metadata": {
  "kernelspec": {
   "display_name": "Python 3",
   "language": "python",
   "name": "python3"
  },
  "language_info": {
   "codemirror_mode": {
    "name": "ipython",
    "version": 3
   },
   "file_extension": ".py",
   "mimetype": "text/x-python",
   "name": "python",
   "nbconvert_exporter": "python",
   "pygments_lexer": "ipython3",
   "version": "3.11.1"
  }
 },
 "nbformat": 4,
 "nbformat_minor": 2
}
