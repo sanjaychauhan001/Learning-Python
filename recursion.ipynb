{
 "cells": [
  {
   "cell_type": "code",
   "execution_count": 3,
   "metadata": {},
   "outputs": [],
   "source": [
    "def fact(x):\n",
    "    if(x == 0 | x== 1):\n",
    "        return 1\n",
    "    else:\n",
    "        return x*fact(x-1)"
   ]
  },
  {
   "cell_type": "code",
   "execution_count": 4,
   "metadata": {},
   "outputs": [
    {
     "data": {
      "text/plain": [
       "120"
      ]
     },
     "execution_count": 4,
     "metadata": {},
     "output_type": "execute_result"
    }
   ],
   "source": [
    "fact(5)"
   ]
  },
  {
   "cell_type": "code",
   "execution_count": 19,
   "metadata": {},
   "outputs": [],
   "source": [
    "def palindrome(s):\n",
    "\n",
    "    if(len(s)<=1):\n",
    "        print(\"pelindrome\")\n",
    "    else:\n",
    "        if(s[0] == s[-1]):\n",
    "            palindrome(s[1:-1])\n",
    "        else:\n",
    "            print(\"not a palindrome\")    \n"
   ]
  },
  {
   "cell_type": "code",
   "execution_count": 20,
   "metadata": {},
   "outputs": [
    {
     "name": "stdout",
     "output_type": "stream",
     "text": [
      "pelindrome\n"
     ]
    }
   ],
   "source": [
    "palindrome(\"abba\")"
   ]
  },
  {
   "cell_type": "code",
   "execution_count": 33,
   "metadata": {},
   "outputs": [],
   "source": [
    "def fib(x):\n",
    "    if(x==0 ):\n",
    "        return 0\n",
    "    elif(x==1 or x==2):\n",
    "        return 1\n",
    "    \n",
    "    else:\n",
    "        return fib(x-1) + fib(x-2)"
   ]
  },
  {
   "cell_type": "code",
   "execution_count": 34,
   "metadata": {},
   "outputs": [
    {
     "data": {
      "text/plain": [
       "144"
      ]
     },
     "execution_count": 34,
     "metadata": {},
     "output_type": "execute_result"
    }
   ],
   "source": [
    "fib(12)"
   ]
  },
  {
   "cell_type": "code",
   "execution_count": 2,
   "metadata": {},
   "outputs": [
    {
     "name": "stdout",
     "output_type": "stream",
     "text": [
      "hey buddy how are you \n",
      "kya tumne chai piya\n",
      "hey buddy how are you \n",
      "kya tumne chai piya\n"
     ]
    }
   ],
   "source": [
    "with open('sanjay.txt', 'r') as f:\n",
    "    print(f.read())"
   ]
  },
  {
   "cell_type": "code",
   "execution_count": 4,
   "metadata": {},
   "outputs": [
    {
     "name": "stdout",
     "output_type": "stream",
     "text": [
      "some error occured\n"
     ]
    }
   ],
   "source": [
    "try:\n",
    "    with open(\"sanjay1.txt\",'r') as f:\n",
    "        print(f.read())\n",
    "\n",
    "except:\n",
    "    print(\"some error occured\")"
   ]
  },
  {
   "cell_type": "code",
   "execution_count": 5,
   "metadata": {},
   "outputs": [
    {
     "name": "stdout",
     "output_type": "stream",
     "text": [
      "hey buddy how are you \n",
      "kya tumne chai piya\n",
      "hey buddy how are you \n",
      "kya tumne chai piya\n",
      "some error occured\n"
     ]
    }
   ],
   "source": [
    "try:\n",
    "    with open(\"sanjay.txt\",'r') as f:\n",
    "        print(f.read())\n",
    "        print(m)\n",
    "\n",
    "except:\n",
    "    print(\"some error occured\")"
   ]
  },
  {
   "cell_type": "code",
   "execution_count": 8,
   "metadata": {},
   "outputs": [
    {
     "name": "stdout",
     "output_type": "stream",
     "text": [
      "<built-in method with_traceback of FileNotFoundError object at 0x000001DB3E374940>\n"
     ]
    }
   ],
   "source": [
    "try:\n",
    "    with open(\"sanjay1.txt\",'r') as f:\n",
    "        print(f.read())\n",
    "        print(m)\n",
    "\n",
    "except Exception as e:\n",
    "    print(e.with_traceback)"
   ]
  },
  {
   "cell_type": "code",
   "execution_count": 12,
   "metadata": {},
   "outputs": [
    {
     "name": "stdout",
     "output_type": "stream",
     "text": [
      "hey buddy how are you \n",
      "kya tumne chai piya\n",
      "hey buddy how are you \n",
      "kya tumne chai piya\n",
      "some error occured\n"
     ]
    }
   ],
   "source": [
    "try:\n",
    "    with open('sanjay.txt','r') as f:\n",
    "        print(f.read())\n",
    "        \n",
    "        print(7/0)\n",
    "except NameError:\n",
    "    print(\"Variable not found\")\n",
    "except FileNotFoundError:\n",
    "    print(\"file not found\")\n",
    "except:\n",
    "    print(\"some error occured\")              "
   ]
  },
  {
   "cell_type": "code",
   "execution_count": null,
   "metadata": {},
   "outputs": [],
   "source": []
  }
 ],
 "metadata": {
  "kernelspec": {
   "display_name": "Python 3",
   "language": "python",
   "name": "python3"
  },
  "language_info": {
   "codemirror_mode": {
    "name": "ipython",
    "version": 3
   },
   "file_extension": ".py",
   "mimetype": "text/x-python",
   "name": "python",
   "nbconvert_exporter": "python",
   "pygments_lexer": "ipython3",
   "version": "3.11.1"
  }
 },
 "nbformat": 4,
 "nbformat_minor": 2
}
