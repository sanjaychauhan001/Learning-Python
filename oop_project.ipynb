{
 "cells": [
  {
   "cell_type": "code",
   "execution_count": 4,
   "metadata": {},
   "outputs": [],
   "source": [
    "import nlpcloud\n",
    "class NLPApp:\n",
    "\n",
    "    def __init__(self):\n",
    "\n",
    "        self.__database = {}\n",
    "        self.__first_menu()\n",
    "    \n",
    "    def __first_menu(self):\n",
    "\n",
    "        first_input = input(\"\"\"\n",
    "        Hi! How would you like to procced?\n",
    "        1. Not a member? Register\n",
    "        2. Already a member? Login\n",
    "        3. galti se aa gaye? Exit \"\"\")\n",
    "\n",
    "        if(first_input == \"1\"):\n",
    "            self.__register()\n",
    "        elif(first_input == \"2\"):\n",
    "            self.__login()\n",
    "        else:\n",
    "            exit()   \n",
    "\n",
    "    def __second_menu(self):\n",
    "\n",
    "        second_input = input(\"\"\"\n",
    "        Hi! How would you like to procced?\n",
    "        1. NER\n",
    "        2. Language detection\n",
    "        3. sentiment analysis\n",
    "        4. logout \"\"\")\n",
    "\n",
    "        if second_input == '1':\n",
    "            self.__ner()\n",
    "        elif second_input =='2':\n",
    "            self.__language_detection()\n",
    "        elif second_input == '3':\n",
    "            self.__sentiment_analysis()\n",
    "        else:\n",
    "            exit()                           \n",
    "    \n",
    "    def __register(self):\n",
    "        name = input(\"Enter name\")\n",
    "        email = input(\"Enter email\")\n",
    "        password = input(\"enter password\")\n",
    "\n",
    "        if email in self.__database:\n",
    "            print(\"Email already exist\")\n",
    "        else:\n",
    "            self.__database[email] = [name,password]\n",
    "            print(\"registration successful. Now login\")\n",
    "            print(self.__database)\n",
    "            self.__first_menu()  \n",
    "\n",
    "\n",
    "    def __login(self):\n",
    "        email = input(\"enter email\")\n",
    "        password = input(\"enter password\")\n",
    "\n",
    "        if email in self.__database:\n",
    "            if self.__database[email][1] == password:\n",
    "                print('login successful')\n",
    "                self.__second_menu()\n",
    "            else:\n",
    "                print(\"wrong password Try again\")\n",
    "                self.__login()    \n",
    "        else:\n",
    "            print(\"this email is not registered\")\n",
    "            self.__first_menu()\n",
    "\n",
    "    def __sentiment_analysis(self):\n",
    "\n",
    "        para = input(\"enter the paragraph\")\n",
    "\n",
    "        client = nlpcloud.Client(\"distilbert-base-uncased-emotion\", \"2b58d7fb9af09e617ee525e78c7766b6d8c5bb61\",gpu=True,lang=\"en\")\n",
    "        response = client.sentiment(para)\n",
    "\n",
    "        print(response)"
   ]
  },
  {
   "cell_type": "code",
   "execution_count": 5,
   "metadata": {},
   "outputs": [
    {
     "name": "stdout",
     "output_type": "stream",
     "text": [
      "registration successful. Now login\n",
      "{'sanjay@gmail.com': ['sanjay', '1234']}\n",
      "login successful\n"
     ]
    },
    {
     "ename": "HTTPError",
     "evalue": "404 Client Error: Not Found for url: https://api.nlpcloud.io/v1/gpu/distilbert-base-uncased-emotion/sentiment: 404 page not found\n",
     "output_type": "error",
     "traceback": [
      "\u001b[1;31m---------------------------------------------------------------------------\u001b[0m",
      "\u001b[1;31mHTTPError\u001b[0m                                 Traceback (most recent call last)",
      "File \u001b[1;32mc:\\Users\\sanja\\AppData\\Local\\Programs\\Python\\Python311\\Lib\\site-packages\\nlpcloud\\__init__.py:421\u001b[0m, in \u001b[0;36mClient.sentiment\u001b[1;34m(self, text)\u001b[0m\n\u001b[0;32m    420\u001b[0m \u001b[39mtry\u001b[39;00m:\n\u001b[1;32m--> 421\u001b[0m     r\u001b[39m.\u001b[39;49mraise_for_status()\n\u001b[0;32m    422\u001b[0m \u001b[39mexcept\u001b[39;00m HTTPError \u001b[39mas\u001b[39;00m err:\n",
      "File \u001b[1;32mc:\\Users\\sanja\\AppData\\Local\\Programs\\Python\\Python311\\Lib\\site-packages\\requests\\models.py:1021\u001b[0m, in \u001b[0;36mResponse.raise_for_status\u001b[1;34m(self)\u001b[0m\n\u001b[0;32m   1020\u001b[0m \u001b[39mif\u001b[39;00m http_error_msg:\n\u001b[1;32m-> 1021\u001b[0m     \u001b[39mraise\u001b[39;00m HTTPError(http_error_msg, response\u001b[39m=\u001b[39m\u001b[39mself\u001b[39m)\n",
      "\u001b[1;31mHTTPError\u001b[0m: 404 Client Error: Not Found for url: https://api.nlpcloud.io/v1/gpu/distilbert-base-uncased-emotion/sentiment",
      "\nDuring handling of the above exception, another exception occurred:\n",
      "\u001b[1;31mHTTPError\u001b[0m                                 Traceback (most recent call last)",
      "\u001b[1;32mc:\\Users\\sanja\\OneDrive\\Pictures\\learning python\\oop_project.ipynb Cell 2\u001b[0m line \u001b[0;36m1\n\u001b[1;32m----> <a href='vscode-notebook-cell:/c%3A/Users/sanja/OneDrive/Pictures/learning%20python/oop_project.ipynb#W1sZmlsZQ%3D%3D?line=0'>1</a>\u001b[0m obj \u001b[39m=\u001b[39m NLPApp()\n",
      "\u001b[1;32mc:\\Users\\sanja\\OneDrive\\Pictures\\learning python\\oop_project.ipynb Cell 2\u001b[0m line \u001b[0;36m7\n\u001b[0;32m      <a href='vscode-notebook-cell:/c%3A/Users/sanja/OneDrive/Pictures/learning%20python/oop_project.ipynb#W1sZmlsZQ%3D%3D?line=3'>4</a>\u001b[0m \u001b[39mdef\u001b[39;00m \u001b[39m__init__\u001b[39m(\u001b[39mself\u001b[39m):\n\u001b[0;32m      <a href='vscode-notebook-cell:/c%3A/Users/sanja/OneDrive/Pictures/learning%20python/oop_project.ipynb#W1sZmlsZQ%3D%3D?line=5'>6</a>\u001b[0m     \u001b[39mself\u001b[39m\u001b[39m.\u001b[39m__database \u001b[39m=\u001b[39m {}\n\u001b[1;32m----> <a href='vscode-notebook-cell:/c%3A/Users/sanja/OneDrive/Pictures/learning%20python/oop_project.ipynb#W1sZmlsZQ%3D%3D?line=6'>7</a>\u001b[0m     \u001b[39mself\u001b[39;49m\u001b[39m.\u001b[39;49m__first_menu()\n",
      "\u001b[1;32mc:\\Users\\sanja\\OneDrive\\Pictures\\learning python\\oop_project.ipynb Cell 2\u001b[0m line \u001b[0;36m1\n\u001b[0;32m     <a href='vscode-notebook-cell:/c%3A/Users/sanja/OneDrive/Pictures/learning%20python/oop_project.ipynb#W1sZmlsZQ%3D%3D?line=10'>11</a>\u001b[0m first_input \u001b[39m=\u001b[39m \u001b[39minput\u001b[39m(\u001b[39m\"\"\"\u001b[39m\n\u001b[0;32m     <a href='vscode-notebook-cell:/c%3A/Users/sanja/OneDrive/Pictures/learning%20python/oop_project.ipynb#W1sZmlsZQ%3D%3D?line=11'>12</a>\u001b[0m \u001b[39mHi! How would you like to procced?\u001b[39m\n\u001b[0;32m     <a href='vscode-notebook-cell:/c%3A/Users/sanja/OneDrive/Pictures/learning%20python/oop_project.ipynb#W1sZmlsZQ%3D%3D?line=12'>13</a>\u001b[0m \u001b[39m1. Not a member? Register\u001b[39m\n\u001b[0;32m     <a href='vscode-notebook-cell:/c%3A/Users/sanja/OneDrive/Pictures/learning%20python/oop_project.ipynb#W1sZmlsZQ%3D%3D?line=13'>14</a>\u001b[0m \u001b[39m2. Already a member? Login\u001b[39m\n\u001b[0;32m     <a href='vscode-notebook-cell:/c%3A/Users/sanja/OneDrive/Pictures/learning%20python/oop_project.ipynb#W1sZmlsZQ%3D%3D?line=14'>15</a>\u001b[0m \u001b[39m3. galti se aa gaye? Exit \u001b[39m\u001b[39m\"\"\"\u001b[39m)\n\u001b[0;32m     <a href='vscode-notebook-cell:/c%3A/Users/sanja/OneDrive/Pictures/learning%20python/oop_project.ipynb#W1sZmlsZQ%3D%3D?line=16'>17</a>\u001b[0m \u001b[39mif\u001b[39;00m(first_input \u001b[39m==\u001b[39m \u001b[39m\"\u001b[39m\u001b[39m1\u001b[39m\u001b[39m\"\u001b[39m):\n\u001b[1;32m---> <a href='vscode-notebook-cell:/c%3A/Users/sanja/OneDrive/Pictures/learning%20python/oop_project.ipynb#W1sZmlsZQ%3D%3D?line=17'>18</a>\u001b[0m     \u001b[39mself\u001b[39;49m\u001b[39m.\u001b[39;49m__register()\n\u001b[0;32m     <a href='vscode-notebook-cell:/c%3A/Users/sanja/OneDrive/Pictures/learning%20python/oop_project.ipynb#W1sZmlsZQ%3D%3D?line=18'>19</a>\u001b[0m \u001b[39melif\u001b[39;00m(first_input \u001b[39m==\u001b[39m \u001b[39m\"\u001b[39m\u001b[39m2\u001b[39m\u001b[39m\"\u001b[39m):\n\u001b[0;32m     <a href='vscode-notebook-cell:/c%3A/Users/sanja/OneDrive/Pictures/learning%20python/oop_project.ipynb#W1sZmlsZQ%3D%3D?line=19'>20</a>\u001b[0m     \u001b[39mself\u001b[39m\u001b[39m.\u001b[39m__login()\n",
      "\u001b[1;32mc:\\Users\\sanja\\OneDrive\\Pictures\\learning python\\oop_project.ipynb Cell 2\u001b[0m line \u001b[0;36m5\n\u001b[0;32m     <a href='vscode-notebook-cell:/c%3A/Users/sanja/OneDrive/Pictures/learning%20python/oop_project.ipynb#W1sZmlsZQ%3D%3D?line=50'>51</a>\u001b[0m \u001b[39mprint\u001b[39m(\u001b[39m\"\u001b[39m\u001b[39mregistration successful. Now login\u001b[39m\u001b[39m\"\u001b[39m)\n\u001b[0;32m     <a href='vscode-notebook-cell:/c%3A/Users/sanja/OneDrive/Pictures/learning%20python/oop_project.ipynb#W1sZmlsZQ%3D%3D?line=51'>52</a>\u001b[0m \u001b[39mprint\u001b[39m(\u001b[39mself\u001b[39m\u001b[39m.\u001b[39m__database)\n\u001b[1;32m---> <a href='vscode-notebook-cell:/c%3A/Users/sanja/OneDrive/Pictures/learning%20python/oop_project.ipynb#W1sZmlsZQ%3D%3D?line=52'>53</a>\u001b[0m \u001b[39mself\u001b[39;49m\u001b[39m.\u001b[39;49m__first_menu()\n",
      "\u001b[1;32mc:\\Users\\sanja\\OneDrive\\Pictures\\learning python\\oop_project.ipynb Cell 2\u001b[0m line \u001b[0;36m2\n\u001b[0;32m     <a href='vscode-notebook-cell:/c%3A/Users/sanja/OneDrive/Pictures/learning%20python/oop_project.ipynb#W1sZmlsZQ%3D%3D?line=17'>18</a>\u001b[0m     \u001b[39mself\u001b[39m\u001b[39m.\u001b[39m__register()\n\u001b[0;32m     <a href='vscode-notebook-cell:/c%3A/Users/sanja/OneDrive/Pictures/learning%20python/oop_project.ipynb#W1sZmlsZQ%3D%3D?line=18'>19</a>\u001b[0m \u001b[39melif\u001b[39;00m(first_input \u001b[39m==\u001b[39m \u001b[39m\"\u001b[39m\u001b[39m2\u001b[39m\u001b[39m\"\u001b[39m):\n\u001b[1;32m---> <a href='vscode-notebook-cell:/c%3A/Users/sanja/OneDrive/Pictures/learning%20python/oop_project.ipynb#W1sZmlsZQ%3D%3D?line=19'>20</a>\u001b[0m     \u001b[39mself\u001b[39;49m\u001b[39m.\u001b[39;49m__login()\n\u001b[0;32m     <a href='vscode-notebook-cell:/c%3A/Users/sanja/OneDrive/Pictures/learning%20python/oop_project.ipynb#W1sZmlsZQ%3D%3D?line=20'>21</a>\u001b[0m \u001b[39melse\u001b[39;00m:\n\u001b[0;32m     <a href='vscode-notebook-cell:/c%3A/Users/sanja/OneDrive/Pictures/learning%20python/oop_project.ipynb#W1sZmlsZQ%3D%3D?line=21'>22</a>\u001b[0m     exit()\n",
      "\u001b[1;32mc:\\Users\\sanja\\OneDrive\\Pictures\\learning python\\oop_project.ipynb Cell 2\u001b[0m line \u001b[0;36m6\n\u001b[0;32m     <a href='vscode-notebook-cell:/c%3A/Users/sanja/OneDrive/Pictures/learning%20python/oop_project.ipynb#W1sZmlsZQ%3D%3D?line=60'>61</a>\u001b[0m \u001b[39mif\u001b[39;00m \u001b[39mself\u001b[39m\u001b[39m.\u001b[39m__database[email][\u001b[39m1\u001b[39m] \u001b[39m==\u001b[39m password:\n\u001b[0;32m     <a href='vscode-notebook-cell:/c%3A/Users/sanja/OneDrive/Pictures/learning%20python/oop_project.ipynb#W1sZmlsZQ%3D%3D?line=61'>62</a>\u001b[0m     \u001b[39mprint\u001b[39m(\u001b[39m'\u001b[39m\u001b[39mlogin successful\u001b[39m\u001b[39m'\u001b[39m)\n\u001b[1;32m---> <a href='vscode-notebook-cell:/c%3A/Users/sanja/OneDrive/Pictures/learning%20python/oop_project.ipynb#W1sZmlsZQ%3D%3D?line=62'>63</a>\u001b[0m     \u001b[39mself\u001b[39;49m\u001b[39m.\u001b[39;49m__second_menu()\n\u001b[0;32m     <a href='vscode-notebook-cell:/c%3A/Users/sanja/OneDrive/Pictures/learning%20python/oop_project.ipynb#W1sZmlsZQ%3D%3D?line=63'>64</a>\u001b[0m \u001b[39melse\u001b[39;00m:\n\u001b[0;32m     <a href='vscode-notebook-cell:/c%3A/Users/sanja/OneDrive/Pictures/learning%20python/oop_project.ipynb#W1sZmlsZQ%3D%3D?line=64'>65</a>\u001b[0m     \u001b[39mprint\u001b[39m(\u001b[39m\"\u001b[39m\u001b[39mwrong password Try again\u001b[39m\u001b[39m\"\u001b[39m)\n",
      "\u001b[1;32mc:\\Users\\sanja\\OneDrive\\Pictures\\learning python\\oop_project.ipynb Cell 2\u001b[0m line \u001b[0;36m3\n\u001b[0;32m     <a href='vscode-notebook-cell:/c%3A/Users/sanja/OneDrive/Pictures/learning%20python/oop_project.ipynb#W1sZmlsZQ%3D%3D?line=35'>36</a>\u001b[0m     \u001b[39mself\u001b[39m\u001b[39m.\u001b[39m__language_detection()\n\u001b[0;32m     <a href='vscode-notebook-cell:/c%3A/Users/sanja/OneDrive/Pictures/learning%20python/oop_project.ipynb#W1sZmlsZQ%3D%3D?line=36'>37</a>\u001b[0m \u001b[39melif\u001b[39;00m second_input \u001b[39m==\u001b[39m \u001b[39m'\u001b[39m\u001b[39m3\u001b[39m\u001b[39m'\u001b[39m:\n\u001b[1;32m---> <a href='vscode-notebook-cell:/c%3A/Users/sanja/OneDrive/Pictures/learning%20python/oop_project.ipynb#W1sZmlsZQ%3D%3D?line=37'>38</a>\u001b[0m     \u001b[39mself\u001b[39;49m\u001b[39m.\u001b[39;49m__sentiment_analysis()\n\u001b[0;32m     <a href='vscode-notebook-cell:/c%3A/Users/sanja/OneDrive/Pictures/learning%20python/oop_project.ipynb#W1sZmlsZQ%3D%3D?line=38'>39</a>\u001b[0m \u001b[39melse\u001b[39;00m:\n\u001b[0;32m     <a href='vscode-notebook-cell:/c%3A/Users/sanja/OneDrive/Pictures/learning%20python/oop_project.ipynb#W1sZmlsZQ%3D%3D?line=39'>40</a>\u001b[0m     exit()\n",
      "\u001b[1;32mc:\\Users\\sanja\\OneDrive\\Pictures\\learning python\\oop_project.ipynb Cell 2\u001b[0m line \u001b[0;36m7\n\u001b[0;32m     <a href='vscode-notebook-cell:/c%3A/Users/sanja/OneDrive/Pictures/learning%20python/oop_project.ipynb#W1sZmlsZQ%3D%3D?line=72'>73</a>\u001b[0m para \u001b[39m=\u001b[39m \u001b[39minput\u001b[39m(\u001b[39m\"\u001b[39m\u001b[39menter the paragraph\u001b[39m\u001b[39m\"\u001b[39m)\n\u001b[0;32m     <a href='vscode-notebook-cell:/c%3A/Users/sanja/OneDrive/Pictures/learning%20python/oop_project.ipynb#W1sZmlsZQ%3D%3D?line=74'>75</a>\u001b[0m client \u001b[39m=\u001b[39m nlpcloud\u001b[39m.\u001b[39mClient(\u001b[39m\"\u001b[39m\u001b[39mdistilbert-base-uncased-emotion\u001b[39m\u001b[39m\"\u001b[39m, \u001b[39m\"\u001b[39m\u001b[39m2b58d7fb9af09e617ee525e78c7766b6d8c5bb61\u001b[39m\u001b[39m\"\u001b[39m,gpu\u001b[39m=\u001b[39m\u001b[39mTrue\u001b[39;00m,lang\u001b[39m=\u001b[39m\u001b[39m\"\u001b[39m\u001b[39men\u001b[39m\u001b[39m\"\u001b[39m)\n\u001b[1;32m---> <a href='vscode-notebook-cell:/c%3A/Users/sanja/OneDrive/Pictures/learning%20python/oop_project.ipynb#W1sZmlsZQ%3D%3D?line=75'>76</a>\u001b[0m response \u001b[39m=\u001b[39m client\u001b[39m.\u001b[39;49msentiment(para)\n\u001b[0;32m     <a href='vscode-notebook-cell:/c%3A/Users/sanja/OneDrive/Pictures/learning%20python/oop_project.ipynb#W1sZmlsZQ%3D%3D?line=77'>78</a>\u001b[0m \u001b[39mprint\u001b[39m(response)\n",
      "File \u001b[1;32mc:\\Users\\sanja\\AppData\\Local\\Programs\\Python\\Python311\\Lib\\site-packages\\nlpcloud\\__init__.py:423\u001b[0m, in \u001b[0;36mClient.sentiment\u001b[1;34m(self, text)\u001b[0m\n\u001b[0;32m    421\u001b[0m     r\u001b[39m.\u001b[39mraise_for_status()\n\u001b[0;32m    422\u001b[0m \u001b[39mexcept\u001b[39;00m HTTPError \u001b[39mas\u001b[39;00m err:\n\u001b[1;32m--> 423\u001b[0m     \u001b[39mraise\u001b[39;00m HTTPError(\u001b[39mstr\u001b[39m(err) \u001b[39m+\u001b[39m \u001b[39m\"\u001b[39m\u001b[39m: \u001b[39m\u001b[39m\"\u001b[39m \u001b[39m+\u001b[39m \u001b[39mstr\u001b[39m(r\u001b[39m.\u001b[39mtext))\n\u001b[0;32m    425\u001b[0m \u001b[39mreturn\u001b[39;00m r\u001b[39m.\u001b[39mjson()\n",
      "\u001b[1;31mHTTPError\u001b[0m: 404 Client Error: Not Found for url: https://api.nlpcloud.io/v1/gpu/distilbert-base-uncased-emotion/sentiment: 404 page not found\n"
     ]
    }
   ],
   "source": [
    "obj = NLPApp()"
   ]
  }
 ],
 "metadata": {
  "kernelspec": {
   "display_name": "Python 3",
   "language": "python",
   "name": "python3"
  },
  "language_info": {
   "codemirror_mode": {
    "name": "ipython",
    "version": 3
   },
   "file_extension": ".py",
   "mimetype": "text/x-python",
   "name": "python",
   "nbconvert_exporter": "python",
   "pygments_lexer": "ipython3",
   "version": "3.11.1"
  }
 },
 "nbformat": 4,
 "nbformat_minor": 2
}
